{
 "cells": [
  {
   "cell_type": "markdown",
   "id": "146dbe0d",
   "metadata": {},
   "source": [
    "<h2>Heliostat Locator</h2>\n",
    "    Solar Power Towers collects energy from extremly areas. Thousands of mirrors spreaded in the field. We call the mirrors as heliostats. Heliostats reflects the Sunlight onto Tower. Thereby, very large amounts of energy focused in just a few squarmeters of collector. This creates an amazing power. System should locate the heliostats properly in order to achive the most powerfull state. This is a crucial part of the heliostats.\n",
    "<h3>Mathematical and Physical Foundations of the Heliostat Locator</h3>\n",
    "As mentioned previously, heliostats are mirrors. Mirrors reflect light. Reflection Laws governs how to mirrors reflects the light. According to Reflection Laws, Angle between incident ray and normal of the surface is allways equal to angle between reflected ray and normal of the surface. This is the main idea of heliostat locator. The locater finds the bisect of the angle between Sun light and line between heliostat and collector. Then heliostat driver makes the bisect normal of the heliostat's mirror.\n",
    "<img src=\"src/reflection-mirror.png\">\n",
    "Normal of the mirror is given by the following formula. System must compute azimuth and altitude\n",
    "<img src=\"src/heliostat formula.png\">\n",
    "Angle of the mirror is given by the following formula\n",
    "<img src=\"src/heliostat-formula.png\">"
   ]
  }
 ],
 "metadata": {
  "kernelspec": {
   "display_name": "Python 3",
   "language": "python",
   "name": "python3"
  },
  "language_info": {
   "codemirror_mode": {
    "name": "ipython",
    "version": 3
   },
   "file_extension": ".py",
   "mimetype": "text/x-python",
   "name": "python",
   "nbconvert_exporter": "python",
   "pygments_lexer": "ipython3",
   "version": "3.8.8"
  }
 },
 "nbformat": 4,
 "nbformat_minor": 5
}
