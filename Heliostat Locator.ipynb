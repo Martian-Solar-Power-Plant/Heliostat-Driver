{
 "cells": [
  {
   "cell_type": "markdown",
   "id": "146dbe0d",
   "metadata": {},
   "source": [
    "<h2>Heliostat Locator</h2>\n",
    "    Solar Power Towers collects energy from extremly areas. Thousands of mirrors spreaded in the field. We call the mirrors as heliostats. Heliostats reflects the Sunlight onto Tower. Thereby, very large amounts of energy focused in just a few squarmeters of collector. This creates an amazing power. System should locate the heliostats properly in order to achive the most powerfull state. This is a crucial part of the heliostats.\n",
    "<h3>Mathematical and Physical Foundations of the Heliostat Locator</h3>\n",
    "As mentioned previously, heliostats are mirrors. Mirrors reflect light. Reflection Laws governs how to mirrors reflects the light. According to Reflection Laws, Angle between incident ray and normal of the surface is allways equal to angle between reflected ray and normal of the surface. This is the main idea of heliostat locator. The locater finds the bisect of the angle between Sun light and line between heliostat and collector. Then heliostat driver makes the bisect normal of the heliostat's mirror.\n",
    "<img src=\"src/reflection-mirror.png\">\n",
    "Normal of the mirror is given by the following formula. System must compute azimuth and altitude\n",
    "<img src=\"src/heliostat formula.png\">\n",
    "Angle of the mirror is given by the following formula\n",
    "<img src=\"src/heliostat-formula.png\">"
   ]
  },
  {
   "cell_type": "raw",
   "id": "237007cf",
   "metadata": {},
   "source": [
    "Let's install necessary modules"
   ]
  },
  {
   "cell_type": "code",
   "execution_count": 27,
   "id": "390eea94",
   "metadata": {},
   "outputs": [
    {
     "name": "stdout",
     "output_type": "stream",
     "text": [
      "Requirement already satisfied: suncalc in /home/ali/anaconda3/lib/python3.8/site-packages (0.1.2)\n",
      "Requirement already satisfied: geopy in /home/ali/anaconda3/lib/python3.8/site-packages (2.1.0)\n",
      "Requirement already satisfied: numpy in /home/ali/anaconda3/lib/python3.8/site-packages (from suncalc) (1.20.2)\n",
      "Requirement already satisfied: geographiclib<2,>=1.49 in /home/ali/anaconda3/lib/python3.8/site-packages (from geopy) (1.52)\n"
     ]
    }
   ],
   "source": [
    "!pip install suncalc geopy"
   ]
  },
  {
   "cell_type": "code",
   "execution_count": 37,
   "id": "5b8ab08f",
   "metadata": {},
   "outputs": [
    {
     "data": {
      "text/plain": [
       "{'azimuth': 1.931934003223009, 'altitude': 0.19878127649018543}"
      ]
     },
     "execution_count": 37,
     "metadata": {},
     "output_type": "execute_result"
    }
   ],
   "source": [
    "import suncalc\n",
    "from datetime import datetime\n",
    "from math import atan,tan,pi\n",
    "from geopy.distance import geodesic\n",
    "coordinates=(41.02611,28.97393)#latitude,longitude\n",
    "suncalc.getPosition(datetime.now(),coordinates[0],coordinates[1])"
   ]
  },
  {
   "cell_type": "code",
   "execution_count": 38,
   "id": "de67ff91",
   "metadata": {},
   "outputs": [],
   "source": [
    "def getHL(HG,TP,time):#Global position of heliostat(lat,lon), Position of Tower(azimuth due to the south,altitude), time(in the type of datetime)\n",
    "    sun=suncalc.getPosition(time,HG[0],HG[1])\n",
    "    return {\"azimuth\":(sun[\"azimuth\"]+TP[0])/2,\"altitude\":atan(-1/tan((sun[\"altitude\"]+TP[1])/2))}\n",
    "def getHN(HG,TP,time):#Global position of heliostat(lat,lon), Position of Tower(azimuth due to the south,altitude), time(in the type of datetime)\n",
    "    sun=suncalc.getPosition(time,HG[0],HG[1])\n",
    "    return {\"azimuth\":(sun[\"azimuth\"]+TP[0])/2,\"altitude\":(sun[\"altitude\"]+TP[1])/2}\n",
    "    \n",
    "   \n",
    "\n",
    "    \n",
    "    \n",
    "    "
   ]
  },
  {
   "cell_type": "code",
   "execution_count": 39,
   "id": "f9da7803",
   "metadata": {},
   "outputs": [
    {
     "name": "stdout",
     "output_type": "stream",
     "text": [
      "{'azimuth': 1.921269107461778, 'altitude': 0.6225531983557157}\n"
     ]
    }
   ],
   "source": [
    "print(getHN((41.02611,28.97393),((2/pi*3),(pi/3)),datetime.now()))\n"
   ]
  },
  {
   "cell_type": "code",
   "execution_count": null,
   "id": "75774dfd",
   "metadata": {},
   "outputs": [],
   "source": []
  }
 ],
 "metadata": {
  "kernelspec": {
   "display_name": "Python 3",
   "language": "python",
   "name": "python3"
  },
  "language_info": {
   "codemirror_mode": {
    "name": "ipython",
    "version": 3
   },
   "file_extension": ".py",
   "mimetype": "text/x-python",
   "name": "python",
   "nbconvert_exporter": "python",
   "pygments_lexer": "ipython3",
   "version": "3.8.8"
  }
 },
 "nbformat": 4,
 "nbformat_minor": 5
}
